{
  "nbformat": 4,
  "nbformat_minor": 0,
  "metadata": {
    "colab": {
      "name": "Exp3.ipynb",
      "provenance": [],
      "collapsed_sections": [],
      "authorship_tag": "ABX9TyPWETlIRuFSNgfstjbboVEQ",
      "include_colab_link": true
    },
    "kernelspec": {
      "name": "python3",
      "display_name": "Python 3"
    },
    "language_info": {
      "name": "python"
    }
  },
  "cells": [
    {
      "cell_type": "markdown",
      "metadata": {
        "id": "view-in-github",
        "colab_type": "text"
      },
      "source": [
        "<a href=\"https://colab.research.google.com/github/ChintzRuparel/Machine-Learning-College/blob/main/Exp3.ipynb\" target=\"_parent\"><img src=\"https://colab.research.google.com/assets/colab-badge.svg\" alt=\"Open In Colab\"/></a>"
      ]
    },
    {
      "cell_type": "code",
      "execution_count": null,
      "metadata": {
        "colab": {
          "base_uri": "https://localhost:8080/",
          "height": 146
        },
        "id": "mGmW8OD7g2lF",
        "outputId": "6aa68657-5fb2-47bc-f8f5-03a6b921e0e6"
      },
      "outputs": [
        {
          "output_type": "execute_result",
          "data": {
            "text/plain": [
              "      0         1         2         3         4         5         6      \\\n",
              "0  0.004241  0.010223  0.006058  0.004828  0.004468  0.005869  0.003976   \n",
              "\n",
              "     7         8         9      ...    10764     10765    10766     10767  \\\n",
              "0  0.00833  0.006248  0.005396  ...  0.00443  0.003862  0.00602  0.005415   \n",
              "\n",
              "      10768     10769     10770    10771    10772     10773  \n",
              "0  0.007573  0.007194  0.005528  0.00496  0.00376  0.006051  \n",
              "\n",
              "[1 rows x 10774 columns]"
            ],
            "text/html": [
              "\n",
              "  <div id=\"df-db7ad0ee-5bce-4623-b98f-3d7e82ae4d62\">\n",
              "    <div class=\"colab-df-container\">\n",
              "      <div>\n",
              "<style scoped>\n",
              "    .dataframe tbody tr th:only-of-type {\n",
              "        vertical-align: middle;\n",
              "    }\n",
              "\n",
              "    .dataframe tbody tr th {\n",
              "        vertical-align: top;\n",
              "    }\n",
              "\n",
              "    .dataframe thead th {\n",
              "        text-align: right;\n",
              "    }\n",
              "</style>\n",
              "<table border=\"1\" class=\"dataframe\">\n",
              "  <thead>\n",
              "    <tr style=\"text-align: right;\">\n",
              "      <th></th>\n",
              "      <th>0</th>\n",
              "      <th>1</th>\n",
              "      <th>2</th>\n",
              "      <th>3</th>\n",
              "      <th>4</th>\n",
              "      <th>5</th>\n",
              "      <th>6</th>\n",
              "      <th>7</th>\n",
              "      <th>8</th>\n",
              "      <th>9</th>\n",
              "      <th>...</th>\n",
              "      <th>10764</th>\n",
              "      <th>10765</th>\n",
              "      <th>10766</th>\n",
              "      <th>10767</th>\n",
              "      <th>10768</th>\n",
              "      <th>10769</th>\n",
              "      <th>10770</th>\n",
              "      <th>10771</th>\n",
              "      <th>10772</th>\n",
              "      <th>10773</th>\n",
              "    </tr>\n",
              "  </thead>\n",
              "  <tbody>\n",
              "    <tr>\n",
              "      <th>0</th>\n",
              "      <td>0.004241</td>\n",
              "      <td>0.010223</td>\n",
              "      <td>0.006058</td>\n",
              "      <td>0.004828</td>\n",
              "      <td>0.004468</td>\n",
              "      <td>0.005869</td>\n",
              "      <td>0.003976</td>\n",
              "      <td>0.00833</td>\n",
              "      <td>0.006248</td>\n",
              "      <td>0.005396</td>\n",
              "      <td>...</td>\n",
              "      <td>0.00443</td>\n",
              "      <td>0.003862</td>\n",
              "      <td>0.00602</td>\n",
              "      <td>0.005415</td>\n",
              "      <td>0.007573</td>\n",
              "      <td>0.007194</td>\n",
              "      <td>0.005528</td>\n",
              "      <td>0.00496</td>\n",
              "      <td>0.00376</td>\n",
              "      <td>0.006051</td>\n",
              "    </tr>\n",
              "  </tbody>\n",
              "</table>\n",
              "<p>1 rows × 10774 columns</p>\n",
              "</div>\n",
              "      <button class=\"colab-df-convert\" onclick=\"convertToInteractive('df-db7ad0ee-5bce-4623-b98f-3d7e82ae4d62')\"\n",
              "              title=\"Convert this dataframe to an interactive table.\"\n",
              "              style=\"display:none;\">\n",
              "        \n",
              "  <svg xmlns=\"http://www.w3.org/2000/svg\" height=\"24px\"viewBox=\"0 0 24 24\"\n",
              "       width=\"24px\">\n",
              "    <path d=\"M0 0h24v24H0V0z\" fill=\"none\"/>\n",
              "    <path d=\"M18.56 5.44l.94 2.06.94-2.06 2.06-.94-2.06-.94-.94-2.06-.94 2.06-2.06.94zm-11 1L8.5 8.5l.94-2.06 2.06-.94-2.06-.94L8.5 2.5l-.94 2.06-2.06.94zm10 10l.94 2.06.94-2.06 2.06-.94-2.06-.94-.94-2.06-.94 2.06-2.06.94z\"/><path d=\"M17.41 7.96l-1.37-1.37c-.4-.4-.92-.59-1.43-.59-.52 0-1.04.2-1.43.59L10.3 9.45l-7.72 7.72c-.78.78-.78 2.05 0 2.83L4 21.41c.39.39.9.59 1.41.59.51 0 1.02-.2 1.41-.59l7.78-7.78 2.81-2.81c.8-.78.8-2.07 0-2.86zM5.41 20L4 18.59l7.72-7.72 1.47 1.35L5.41 20z\"/>\n",
              "  </svg>\n",
              "      </button>\n",
              "      \n",
              "  <style>\n",
              "    .colab-df-container {\n",
              "      display:flex;\n",
              "      flex-wrap:wrap;\n",
              "      gap: 12px;\n",
              "    }\n",
              "\n",
              "    .colab-df-convert {\n",
              "      background-color: #E8F0FE;\n",
              "      border: none;\n",
              "      border-radius: 50%;\n",
              "      cursor: pointer;\n",
              "      display: none;\n",
              "      fill: #1967D2;\n",
              "      height: 32px;\n",
              "      padding: 0 0 0 0;\n",
              "      width: 32px;\n",
              "    }\n",
              "\n",
              "    .colab-df-convert:hover {\n",
              "      background-color: #E2EBFA;\n",
              "      box-shadow: 0px 1px 2px rgba(60, 64, 67, 0.3), 0px 1px 3px 1px rgba(60, 64, 67, 0.15);\n",
              "      fill: #174EA6;\n",
              "    }\n",
              "\n",
              "    [theme=dark] .colab-df-convert {\n",
              "      background-color: #3B4455;\n",
              "      fill: #D2E3FC;\n",
              "    }\n",
              "\n",
              "    [theme=dark] .colab-df-convert:hover {\n",
              "      background-color: #434B5C;\n",
              "      box-shadow: 0px 1px 3px 1px rgba(0, 0, 0, 0.15);\n",
              "      filter: drop-shadow(0px 1px 2px rgba(0, 0, 0, 0.3));\n",
              "      fill: #FFFFFF;\n",
              "    }\n",
              "  </style>\n",
              "\n",
              "      <script>\n",
              "        const buttonEl =\n",
              "          document.querySelector('#df-db7ad0ee-5bce-4623-b98f-3d7e82ae4d62 button.colab-df-convert');\n",
              "        buttonEl.style.display =\n",
              "          google.colab.kernel.accessAllowed ? 'block' : 'none';\n",
              "\n",
              "        async function convertToInteractive(key) {\n",
              "          const element = document.querySelector('#df-db7ad0ee-5bce-4623-b98f-3d7e82ae4d62');\n",
              "          const dataTable =\n",
              "            await google.colab.kernel.invokeFunction('convertToInteractive',\n",
              "                                                     [key], {});\n",
              "          if (!dataTable) return;\n",
              "\n",
              "          const docLinkHtml = 'Like what you see? Visit the ' +\n",
              "            '<a target=\"_blank\" href=https://colab.research.google.com/notebooks/data_table.ipynb>data table notebook</a>'\n",
              "            + ' to learn more about interactive tables.';\n",
              "          element.innerHTML = '';\n",
              "          dataTable['output_type'] = 'display_data';\n",
              "          await google.colab.output.renderOutput(dataTable, element);\n",
              "          const docLink = document.createElement('div');\n",
              "          docLink.innerHTML = docLinkHtml;\n",
              "          element.appendChild(docLink);\n",
              "        }\n",
              "      </script>\n",
              "    </div>\n",
              "  </div>\n",
              "  "
            ]
          },
          "metadata": {},
          "execution_count": 1
        },
        {
          "output_type": "stream",
          "name": "stdout",
          "text": [
            "Warning: Total number of columns (10774) exceeds max_columns (20) limiting to first (20) columns.\n"
          ]
        }
      ],
      "source": [
        "from sklearn import preprocessing\n",
        "import pandas as pd\n",
        "data = pd.read_csv(\"bmw1.csv\")\n",
        "column_norm = data['price'].array.reshape(1,-1)\n",
        "d = preprocessing.normalize(column_norm)\n",
        "scaled_df = pd.DataFrame(d)\n",
        "scaled_df.head()"
      ]
    },
    {
      "cell_type": "code",
      "source": [
        "import pandas as pd\n",
        "df=pd.read_csv('bmw1.csv')\n",
        "df.info()"
      ],
      "metadata": {
        "colab": {
          "base_uri": "https://localhost:8080/"
        },
        "id": "FQlnqJvpYUso",
        "outputId": "1bef1a2d-540b-4de8-90e7-135d713dc781"
      },
      "execution_count": 2,
      "outputs": [
        {
          "output_type": "stream",
          "name": "stdout",
          "text": [
            "<class 'pandas.core.frame.DataFrame'>\n",
            "RangeIndex: 10774 entries, 0 to 10773\n",
            "Data columns (total 9 columns):\n",
            " #   Column        Non-Null Count  Dtype  \n",
            "---  ------        --------------  -----  \n",
            " 0   model         10774 non-null  object \n",
            " 1   year          10774 non-null  int64  \n",
            " 2   price         10774 non-null  int64  \n",
            " 3   transmission  10773 non-null  object \n",
            " 4   mileage       10772 non-null  float64\n",
            " 5   fuelType      10774 non-null  object \n",
            " 6   tax           10773 non-null  float64\n",
            " 7   mpg           10774 non-null  float64\n",
            " 8   engineSize    10774 non-null  float64\n",
            "dtypes: float64(4), int64(2), object(3)\n",
            "memory usage: 757.7+ KB\n"
          ]
        }
      ]
    },
    {
      "cell_type": "code",
      "source": [
        "\n",
        "import numpy as np\n",
        "import pandas as pd\n",
        "\n",
        "df= pd.read_csv('bmw1.csv')"
      ],
      "metadata": {
        "id": "n6BwMHbTYtce"
      },
      "execution_count": 4,
      "outputs": []
    },
    {
      "cell_type": "code",
      "source": [
        "\n",
        "from sklearn.preprocessing import MinMaxScaler\n",
        "min_max=MinMaxScaler()\n",
        "new_df=pd.DataFrame(min_max.fit_transform(df[['year','price']]),columns=[['year','price']])\n",
        "print(new_df.head())"
      ],
      "metadata": {
        "colab": {
          "base_uri": "https://localhost:8080/"
        },
        "id": "r_FylPrcY3e6",
        "outputId": "15753a89-bca7-40dc-efc2-9ce1e90aed95"
      },
      "execution_count": 7,
      "outputs": [
        {
          "output_type": "stream",
          "name": "stdout",
          "text": [
            "       year     price\n",
            "0  0.750000  0.081796\n",
            "1  0.916667  0.211033\n",
            "2  0.833333  0.121057\n",
            "3  0.875000  0.094474\n",
            "4  0.875000  0.086703\n"
          ]
        }
      ]
    }
  ]
}